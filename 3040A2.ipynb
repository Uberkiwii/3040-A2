{
 "cells": [
  {
   "cell_type": "markdown",
   "id": "f3097c21",
   "metadata": {},
   "source": [
    "<center><h1 style=\"font-family:Trebuchet MS\"> ITEC 3040 Assignment #2</h1></center>\n",
    "<center><h3 style=\"font-family:Trebuchet MS\">Han Song Wang </h3></center>\n",
    "<center><h3 style=\"font-family:Trebuchet MS\">216527582 </h3></center><br>"
   ]
  },
  {
   "cell_type": "markdown",
   "id": "4995678f",
   "metadata": {},
   "source": [
    "![2](https://i.imgur.com/kUKpicv.png)"
   ]
  },
  {
   "cell_type": "markdown",
   "id": "9f63a42c",
   "metadata": {},
   "source": [
    "## 1.a"
   ]
  },
  {
   "cell_type": "markdown",
   "id": "a42bd1a5",
   "metadata": {},
   "source": [
    "I would modify it so that the \"count\" is included in calculations as well as taken into consideration when determining the most common class."
   ]
  },
  {
   "cell_type": "markdown",
   "id": "e7447104",
   "metadata": {},
   "source": [
    "<hr>"
   ]
  },
  {
   "cell_type": "markdown",
   "id": "df0a8fd0",
   "metadata": {},
   "source": [
    "## 1.b"
   ]
  },
  {
   "cell_type": "raw",
   "id": "f9ccee2d",
   "metadata": {},
   "source": [
    "salary = 26K...30K:\n",
    "                    junior\n",
    "       = 21K...35K:\n",
    "                    junior\n",
    "       = 36K...40K:\n",
    "                    senior\n",
    "       = 41K...45K:\n",
    "                    junior\n",
    "       = 46K...50K (department = secretary:\n",
    "                                           junior\n",
    "                               = sales:\n",
    "                                           senior\n",
    "                               = systems:\n",
    "                                           junior\n",
    "                               = marketing:\n",
    "                                           senior)\n",
    "       = 66K...70K:\n",
    "                  senior)       "
   ]
  },
  {
   "cell_type": "markdown",
   "id": "f7d3aba4",
   "metadata": {},
   "source": [
    "<hr>"
   ]
  },
  {
   "cell_type": "markdown",
   "id": "fe435cc5",
   "metadata": {},
   "source": [
    "## 1.c"
   ]
  },
  {
   "cell_type": "markdown",
   "id": "1ba0b577",
   "metadata": {},
   "source": [
    "Given values “systems”, “26. . . 30”, and “46–50K”, decision tree classification of this tuple would be <b>\"junior\".</b>"
   ]
  },
  {
   "cell_type": "markdown",
   "id": "ebea2650",
   "metadata": {},
   "source": [
    "<hr>"
   ]
  },
  {
   "cell_type": "markdown",
   "id": "12961d70",
   "metadata": {},
   "source": [
    "## 1.d"
   ]
  },
  {
   "cell_type": "markdown",
   "id": "4ead8344",
   "metadata": {},
   "source": [
    "<b>Naive Bayesian:</b>\n",
    "\n",
    "<i>X</i> = (Department = Systems, Age = [26...30], Salary = [46K...50K])\n",
    "\n",
    "<b>P(X | Senior) = P(Department = Systems | Senior) * P(Age = [26...30] | Senior) * P(Salary = [46K...50K] | Senior) </b><br>\n",
    "\n",
    "P(X | Senior) = P(2/5) * P(1/10) * P(2/5) \n",
    "              = 0.016\n",
    "<br>\n",
    "\n",
    "<b>P(X | Junior) = P(Department = Systems | Junior) * P(Age = [26...30] | Junior) * P(Salary = [46K...50K] | Junior) </b><br>\n",
    "\n",
    "P(X | Junior) = P(2/6) * P(3/6) * P(2/6) \n",
    "              = 0.055...\n",
    "<br>\n",
    "\n",
    "<b>Therefore, the classification of the tuple would be \"Junior\" under Naive Bayesian classification</b>\n",
    "<hr>\n"
   ]
  },
  {
   "cell_type": "markdown",
   "id": "f331adcd",
   "metadata": {},
   "source": [
    "<hr>"
   ]
  },
  {
   "cell_type": "markdown",
   "id": "febb6a4a",
   "metadata": {},
   "source": [
    "## 2.a"
   ]
  },
  {
   "cell_type": "markdown",
   "id": "c145832e",
   "metadata": {},
   "source": [
    "<b>Please note for this part:</b> I used a file called <b>\"seeds_dataset.xlsx\" (converted to .csv)</b> which seems to have been replaced with \n",
    "<b>\"sampledSeeds.csv\"</b> at some point after I had already completed this part of the assignment. It was the only data file provided at the time. I then converted the .xlsx file into .csv, hence the import of \"seeds_dataset.csv\".</b></br>\n",
    "\n",
    "I'm fairly sure the two files should have the same data within them, however my code kept breaking while using the newer file so I chose not to use it as I didn't have enough time to rewrite everything. I just wanted to explain why I'm using a different file for clarity's sake and hopefully it provides the correct outputs."
   ]
  },
  {
   "cell_type": "code",
   "execution_count": 11,
   "id": "7dd84e9a",
   "metadata": {
    "scrolled": false
   },
   "outputs": [
    {
     "data": {
      "text/html": [
       "<div>\n",
       "<style scoped>\n",
       "    .dataframe tbody tr th:only-of-type {\n",
       "        vertical-align: middle;\n",
       "    }\n",
       "\n",
       "    .dataframe tbody tr th {\n",
       "        vertical-align: top;\n",
       "    }\n",
       "\n",
       "    .dataframe thead th {\n",
       "        text-align: right;\n",
       "    }\n",
       "</style>\n",
       "<table border=\"1\" class=\"dataframe\">\n",
       "  <thead>\n",
       "    <tr style=\"text-align: right;\">\n",
       "      <th></th>\n",
       "      <th>area</th>\n",
       "      <th>perimeter</th>\n",
       "      <th>compactness</th>\n",
       "      <th>kernel length</th>\n",
       "      <th>kernel width</th>\n",
       "      <th>asymmetry coefficient</th>\n",
       "      <th>kernel groove length</th>\n",
       "      <th>wheat type</th>\n",
       "    </tr>\n",
       "  </thead>\n",
       "  <tbody>\n",
       "    <tr>\n",
       "      <th>0</th>\n",
       "      <td>15.26</td>\n",
       "      <td>14.84</td>\n",
       "      <td>0.8710</td>\n",
       "      <td>5.763</td>\n",
       "      <td>3.312</td>\n",
       "      <td>2.221</td>\n",
       "      <td>5.220</td>\n",
       "      <td>1</td>\n",
       "    </tr>\n",
       "    <tr>\n",
       "      <th>1</th>\n",
       "      <td>14.88</td>\n",
       "      <td>14.57</td>\n",
       "      <td>0.8811</td>\n",
       "      <td>5.554</td>\n",
       "      <td>3.333</td>\n",
       "      <td>1.018</td>\n",
       "      <td>4.956</td>\n",
       "      <td>1</td>\n",
       "    </tr>\n",
       "    <tr>\n",
       "      <th>2</th>\n",
       "      <td>14.29</td>\n",
       "      <td>14.09</td>\n",
       "      <td>0.9050</td>\n",
       "      <td>5.291</td>\n",
       "      <td>3.337</td>\n",
       "      <td>2.699</td>\n",
       "      <td>4.825</td>\n",
       "      <td>1</td>\n",
       "    </tr>\n",
       "    <tr>\n",
       "      <th>3</th>\n",
       "      <td>13.84</td>\n",
       "      <td>13.94</td>\n",
       "      <td>0.8955</td>\n",
       "      <td>5.324</td>\n",
       "      <td>3.379</td>\n",
       "      <td>2.259</td>\n",
       "      <td>4.805</td>\n",
       "      <td>1</td>\n",
       "    </tr>\n",
       "    <tr>\n",
       "      <th>4</th>\n",
       "      <td>16.14</td>\n",
       "      <td>14.99</td>\n",
       "      <td>0.9034</td>\n",
       "      <td>5.658</td>\n",
       "      <td>3.562</td>\n",
       "      <td>1.355</td>\n",
       "      <td>5.175</td>\n",
       "      <td>1</td>\n",
       "    </tr>\n",
       "    <tr>\n",
       "      <th>...</th>\n",
       "      <td>...</td>\n",
       "      <td>...</td>\n",
       "      <td>...</td>\n",
       "      <td>...</td>\n",
       "      <td>...</td>\n",
       "      <td>...</td>\n",
       "      <td>...</td>\n",
       "      <td>...</td>\n",
       "    </tr>\n",
       "    <tr>\n",
       "      <th>205</th>\n",
       "      <td>12.19</td>\n",
       "      <td>13.20</td>\n",
       "      <td>0.8783</td>\n",
       "      <td>5.137</td>\n",
       "      <td>2.981</td>\n",
       "      <td>3.631</td>\n",
       "      <td>4.870</td>\n",
       "      <td>3</td>\n",
       "    </tr>\n",
       "    <tr>\n",
       "      <th>206</th>\n",
       "      <td>11.23</td>\n",
       "      <td>12.88</td>\n",
       "      <td>0.8511</td>\n",
       "      <td>5.140</td>\n",
       "      <td>2.795</td>\n",
       "      <td>4.325</td>\n",
       "      <td>5.003</td>\n",
       "      <td>3</td>\n",
       "    </tr>\n",
       "    <tr>\n",
       "      <th>207</th>\n",
       "      <td>13.20</td>\n",
       "      <td>13.66</td>\n",
       "      <td>0.8883</td>\n",
       "      <td>5.236</td>\n",
       "      <td>3.232</td>\n",
       "      <td>8.315</td>\n",
       "      <td>5.056</td>\n",
       "      <td>3</td>\n",
       "    </tr>\n",
       "    <tr>\n",
       "      <th>208</th>\n",
       "      <td>11.84</td>\n",
       "      <td>13.21</td>\n",
       "      <td>0.8521</td>\n",
       "      <td>5.175</td>\n",
       "      <td>2.836</td>\n",
       "      <td>3.598</td>\n",
       "      <td>5.044</td>\n",
       "      <td>3</td>\n",
       "    </tr>\n",
       "    <tr>\n",
       "      <th>209</th>\n",
       "      <td>12.30</td>\n",
       "      <td>13.34</td>\n",
       "      <td>0.8684</td>\n",
       "      <td>5.243</td>\n",
       "      <td>2.974</td>\n",
       "      <td>5.637</td>\n",
       "      <td>5.063</td>\n",
       "      <td>3</td>\n",
       "    </tr>\n",
       "  </tbody>\n",
       "</table>\n",
       "<p>210 rows × 8 columns</p>\n",
       "</div>"
      ],
      "text/plain": [
       "      area  perimeter  compactness  kernel length  kernel width  \\\n",
       "0    15.26      14.84       0.8710          5.763         3.312   \n",
       "1    14.88      14.57       0.8811          5.554         3.333   \n",
       "2    14.29      14.09       0.9050          5.291         3.337   \n",
       "3    13.84      13.94       0.8955          5.324         3.379   \n",
       "4    16.14      14.99       0.9034          5.658         3.562   \n",
       "..     ...        ...          ...            ...           ...   \n",
       "205  12.19      13.20       0.8783          5.137         2.981   \n",
       "206  11.23      12.88       0.8511          5.140         2.795   \n",
       "207  13.20      13.66       0.8883          5.236         3.232   \n",
       "208  11.84      13.21       0.8521          5.175         2.836   \n",
       "209  12.30      13.34       0.8684          5.243         2.974   \n",
       "\n",
       "     asymmetry coefficient  kernel groove length  wheat type  \n",
       "0                    2.221                 5.220           1  \n",
       "1                    1.018                 4.956           1  \n",
       "2                    2.699                 4.825           1  \n",
       "3                    2.259                 4.805           1  \n",
       "4                    1.355                 5.175           1  \n",
       "..                     ...                   ...         ...  \n",
       "205                  3.631                 4.870           3  \n",
       "206                  4.325                 5.003           3  \n",
       "207                  8.315                 5.056           3  \n",
       "208                  3.598                 5.044           3  \n",
       "209                  5.637                 5.063           3  \n",
       "\n",
       "[210 rows x 8 columns]"
      ]
     },
     "execution_count": 11,
     "metadata": {},
     "output_type": "execute_result"
    }
   ],
   "source": [
    "import pandas as pd\n",
    "import numpy as np\n",
    "import warnings\n",
    "\n",
    "warnings.filterwarnings('ignore')\n",
    "\n",
    "data = pd.read_csv('seeds_dataset.csv', header=None) \n",
    "\n",
    "data.columns = [\"area\", \"perimeter\", \"compactness\", \"kernel length\", \"kernel width\", \"asymmetry coefficient\", \"kernel groove length\", \"wheat type\"]\n",
    "data"
   ]
  },
  {
   "cell_type": "code",
   "execution_count": 12,
   "id": "5416b97c",
   "metadata": {},
   "outputs": [
    {
     "data": {
      "text/plain": [
       "array([['6.17', '15.38', '0.8588', '5.762', '3.387', '4.286', '5.703']],\n",
       "      dtype='<U6')"
      ]
     },
     "execution_count": 12,
     "metadata": {},
     "output_type": "execute_result"
    }
   ],
   "source": [
    "test = [[\"6.17\", \"15.38\", \"0.8588\", \"5.762\", \"3.387\", \"4.286\", \"5.703\"]]\n",
    "test2 = np.array(test)\n",
    "test2"
   ]
  },
  {
   "cell_type": "code",
   "execution_count": 13,
   "id": "eb01b52b",
   "metadata": {},
   "outputs": [],
   "source": [
    "x = data.iloc[:,: -1].values\n",
    "y = data.iloc[:,7].values"
   ]
  },
  {
   "cell_type": "code",
   "execution_count": 14,
   "id": "356858cb",
   "metadata": {},
   "outputs": [],
   "source": [
    "from sklearn.model_selection import train_test_split\n",
    "X_train, X_test, y_train, y_test = train_test_split(x, y, test_size=0.30, random_state=0)"
   ]
  },
  {
   "cell_type": "code",
   "execution_count": 15,
   "id": "30eedb1b",
   "metadata": {
    "scrolled": false
   },
   "outputs": [
    {
     "data": {
      "text/plain": [
       "KNeighborsClassifier(metric='euclidean', n_neighbors=3)"
      ]
     },
     "execution_count": 15,
     "metadata": {},
     "output_type": "execute_result"
    }
   ],
   "source": [
    "from sklearn.neighbors import KNeighborsClassifier\n",
    "classifier3 = KNeighborsClassifier(n_neighbors=3, metric='euclidean')\n",
    "classifier3.fit(X_train, y_train)"
   ]
  },
  {
   "cell_type": "code",
   "execution_count": 16,
   "id": "dd4c87cf",
   "metadata": {},
   "outputs": [
    {
     "data": {
      "text/plain": [
       "KNeighborsClassifier(metric='euclidean')"
      ]
     },
     "execution_count": 16,
     "metadata": {},
     "output_type": "execute_result"
    }
   ],
   "source": [
    "classifier5 = KNeighborsClassifier(n_neighbors=5, metric='euclidean')\n",
    "classifier5.fit(X_train, y_train)"
   ]
  },
  {
   "cell_type": "code",
   "execution_count": 17,
   "id": "b25e2358",
   "metadata": {
    "scrolled": true
   },
   "outputs": [
    {
     "data": {
      "text/plain": [
       "KNeighborsClassifier(metric='euclidean', n_neighbors=7)"
      ]
     },
     "execution_count": 17,
     "metadata": {},
     "output_type": "execute_result"
    }
   ],
   "source": [
    "classifier7 = KNeighborsClassifier(n_neighbors=7, metric='euclidean')\n",
    "classifier7.fit(X_train, y_train)"
   ]
  },
  {
   "cell_type": "code",
   "execution_count": 18,
   "id": "aae0d90d",
   "metadata": {
    "scrolled": true
   },
   "outputs": [],
   "source": [
    "pred3 = classifier3.predict(test2)\n",
    "pred5 = classifier5.predict(test2)\n",
    "pred7 = classifier7.predict(test2)"
   ]
  },
  {
   "cell_type": "code",
   "execution_count": 19,
   "id": "d317653d",
   "metadata": {},
   "outputs": [
    {
     "name": "stdout",
     "output_type": "stream",
     "text": [
      "[3]\n"
     ]
    }
   ],
   "source": [
    "print(pred3)"
   ]
  },
  {
   "cell_type": "code",
   "execution_count": 20,
   "id": "2a39cc01",
   "metadata": {
    "scrolled": true
   },
   "outputs": [
    {
     "name": "stdout",
     "output_type": "stream",
     "text": [
      "[3]\n"
     ]
    }
   ],
   "source": [
    "print(pred5)"
   ]
  },
  {
   "cell_type": "code",
   "execution_count": 21,
   "id": "202f8234",
   "metadata": {},
   "outputs": [
    {
     "name": "stdout",
     "output_type": "stream",
     "text": [
      "[3]\n"
     ]
    }
   ],
   "source": [
    "print(pred7)"
   ]
  },
  {
   "cell_type": "markdown",
   "id": "cb7bd762",
   "metadata": {},
   "source": [
    "<b>Therefore, the classification of the tuple would be \"3\" when k = 3, 5, 7 and Euclidean distance is in use. They all provide the same value for the classification</b>\n",
    "<hr>"
   ]
  },
  {
   "cell_type": "markdown",
   "id": "7319cace",
   "metadata": {},
   "source": [
    "## 2.b"
   ]
  },
  {
   "cell_type": "markdown",
   "id": "df371f60",
   "metadata": {},
   "source": [
    "<hr>"
   ]
  },
  {
   "cell_type": "code",
   "execution_count": 22,
   "id": "8b27f0f2",
   "metadata": {},
   "outputs": [
    {
     "data": {
      "text/html": [
       "<div>\n",
       "<style scoped>\n",
       "    .dataframe tbody tr th:only-of-type {\n",
       "        vertical-align: middle;\n",
       "    }\n",
       "\n",
       "    .dataframe tbody tr th {\n",
       "        vertical-align: top;\n",
       "    }\n",
       "\n",
       "    .dataframe thead th {\n",
       "        text-align: right;\n",
       "    }\n",
       "</style>\n",
       "<table border=\"1\" class=\"dataframe\">\n",
       "  <thead>\n",
       "    <tr style=\"text-align: right;\">\n",
       "      <th></th>\n",
       "      <th>area</th>\n",
       "      <th>perimeter</th>\n",
       "      <th>compactness</th>\n",
       "      <th>kernel length</th>\n",
       "      <th>kernel width</th>\n",
       "      <th>asymmetry coefficient</th>\n",
       "      <th>kernel groove length</th>\n",
       "      <th>wheat type</th>\n",
       "    </tr>\n",
       "  </thead>\n",
       "  <tbody>\n",
       "    <tr>\n",
       "      <th>0</th>\n",
       "      <td>15.26</td>\n",
       "      <td>14.84</td>\n",
       "      <td>0.8710</td>\n",
       "      <td>5.763</td>\n",
       "      <td>3.312</td>\n",
       "      <td>2.221</td>\n",
       "      <td>5.220</td>\n",
       "      <td>1</td>\n",
       "    </tr>\n",
       "    <tr>\n",
       "      <th>1</th>\n",
       "      <td>14.88</td>\n",
       "      <td>14.57</td>\n",
       "      <td>0.8811</td>\n",
       "      <td>5.554</td>\n",
       "      <td>3.333</td>\n",
       "      <td>1.018</td>\n",
       "      <td>4.956</td>\n",
       "      <td>1</td>\n",
       "    </tr>\n",
       "    <tr>\n",
       "      <th>2</th>\n",
       "      <td>14.29</td>\n",
       "      <td>14.09</td>\n",
       "      <td>0.9050</td>\n",
       "      <td>5.291</td>\n",
       "      <td>3.337</td>\n",
       "      <td>2.699</td>\n",
       "      <td>4.825</td>\n",
       "      <td>1</td>\n",
       "    </tr>\n",
       "    <tr>\n",
       "      <th>3</th>\n",
       "      <td>13.84</td>\n",
       "      <td>13.94</td>\n",
       "      <td>0.8955</td>\n",
       "      <td>5.324</td>\n",
       "      <td>3.379</td>\n",
       "      <td>2.259</td>\n",
       "      <td>4.805</td>\n",
       "      <td>1</td>\n",
       "    </tr>\n",
       "    <tr>\n",
       "      <th>4</th>\n",
       "      <td>16.14</td>\n",
       "      <td>14.99</td>\n",
       "      <td>0.9034</td>\n",
       "      <td>5.658</td>\n",
       "      <td>3.562</td>\n",
       "      <td>1.355</td>\n",
       "      <td>5.175</td>\n",
       "      <td>1</td>\n",
       "    </tr>\n",
       "    <tr>\n",
       "      <th>...</th>\n",
       "      <td>...</td>\n",
       "      <td>...</td>\n",
       "      <td>...</td>\n",
       "      <td>...</td>\n",
       "      <td>...</td>\n",
       "      <td>...</td>\n",
       "      <td>...</td>\n",
       "      <td>...</td>\n",
       "    </tr>\n",
       "    <tr>\n",
       "      <th>205</th>\n",
       "      <td>12.19</td>\n",
       "      <td>13.20</td>\n",
       "      <td>0.8783</td>\n",
       "      <td>5.137</td>\n",
       "      <td>2.981</td>\n",
       "      <td>3.631</td>\n",
       "      <td>4.870</td>\n",
       "      <td>3</td>\n",
       "    </tr>\n",
       "    <tr>\n",
       "      <th>206</th>\n",
       "      <td>11.23</td>\n",
       "      <td>12.88</td>\n",
       "      <td>0.8511</td>\n",
       "      <td>5.140</td>\n",
       "      <td>2.795</td>\n",
       "      <td>4.325</td>\n",
       "      <td>5.003</td>\n",
       "      <td>3</td>\n",
       "    </tr>\n",
       "    <tr>\n",
       "      <th>207</th>\n",
       "      <td>13.20</td>\n",
       "      <td>13.66</td>\n",
       "      <td>0.8883</td>\n",
       "      <td>5.236</td>\n",
       "      <td>3.232</td>\n",
       "      <td>8.315</td>\n",
       "      <td>5.056</td>\n",
       "      <td>3</td>\n",
       "    </tr>\n",
       "    <tr>\n",
       "      <th>208</th>\n",
       "      <td>11.84</td>\n",
       "      <td>13.21</td>\n",
       "      <td>0.8521</td>\n",
       "      <td>5.175</td>\n",
       "      <td>2.836</td>\n",
       "      <td>3.598</td>\n",
       "      <td>5.044</td>\n",
       "      <td>3</td>\n",
       "    </tr>\n",
       "    <tr>\n",
       "      <th>209</th>\n",
       "      <td>12.30</td>\n",
       "      <td>13.34</td>\n",
       "      <td>0.8684</td>\n",
       "      <td>5.243</td>\n",
       "      <td>2.974</td>\n",
       "      <td>5.637</td>\n",
       "      <td>5.063</td>\n",
       "      <td>3</td>\n",
       "    </tr>\n",
       "  </tbody>\n",
       "</table>\n",
       "<p>210 rows × 8 columns</p>\n",
       "</div>"
      ],
      "text/plain": [
       "      area  perimeter  compactness  kernel length  kernel width  \\\n",
       "0    15.26      14.84       0.8710          5.763         3.312   \n",
       "1    14.88      14.57       0.8811          5.554         3.333   \n",
       "2    14.29      14.09       0.9050          5.291         3.337   \n",
       "3    13.84      13.94       0.8955          5.324         3.379   \n",
       "4    16.14      14.99       0.9034          5.658         3.562   \n",
       "..     ...        ...          ...            ...           ...   \n",
       "205  12.19      13.20       0.8783          5.137         2.981   \n",
       "206  11.23      12.88       0.8511          5.140         2.795   \n",
       "207  13.20      13.66       0.8883          5.236         3.232   \n",
       "208  11.84      13.21       0.8521          5.175         2.836   \n",
       "209  12.30      13.34       0.8684          5.243         2.974   \n",
       "\n",
       "     asymmetry coefficient  kernel groove length  wheat type  \n",
       "0                    2.221                 5.220           1  \n",
       "1                    1.018                 4.956           1  \n",
       "2                    2.699                 4.825           1  \n",
       "3                    2.259                 4.805           1  \n",
       "4                    1.355                 5.175           1  \n",
       "..                     ...                   ...         ...  \n",
       "205                  3.631                 4.870           3  \n",
       "206                  4.325                 5.003           3  \n",
       "207                  8.315                 5.056           3  \n",
       "208                  3.598                 5.044           3  \n",
       "209                  5.637                 5.063           3  \n",
       "\n",
       "[210 rows x 8 columns]"
      ]
     },
     "execution_count": 22,
     "metadata": {},
     "output_type": "execute_result"
    }
   ],
   "source": [
    "data_copy = data.copy()\n",
    "data_copy"
   ]
  },
  {
   "cell_type": "code",
   "execution_count": 23,
   "id": "d59b9b2d",
   "metadata": {
    "scrolled": false
   },
   "outputs": [
    {
     "data": {
      "text/html": [
       "<div>\n",
       "<style scoped>\n",
       "    .dataframe tbody tr th:only-of-type {\n",
       "        vertical-align: middle;\n",
       "    }\n",
       "\n",
       "    .dataframe tbody tr th {\n",
       "        vertical-align: top;\n",
       "    }\n",
       "\n",
       "    .dataframe thead th {\n",
       "        text-align: right;\n",
       "    }\n",
       "</style>\n",
       "<table border=\"1\" class=\"dataframe\">\n",
       "  <thead>\n",
       "    <tr style=\"text-align: right;\">\n",
       "      <th></th>\n",
       "      <th>area</th>\n",
       "      <th>perimeter</th>\n",
       "      <th>compactness</th>\n",
       "      <th>kernel length</th>\n",
       "      <th>kernel width</th>\n",
       "      <th>asymmetry coefficient</th>\n",
       "      <th>kernel groove length</th>\n",
       "      <th>wheat type</th>\n",
       "    </tr>\n",
       "  </thead>\n",
       "  <tbody>\n",
       "    <tr>\n",
       "      <th>0</th>\n",
       "      <td>0.440982</td>\n",
       "      <td>0.502066</td>\n",
       "      <td>0.570780</td>\n",
       "      <td>0.486486</td>\n",
       "      <td>0.486101</td>\n",
       "      <td>0.189302</td>\n",
       "      <td>0.345150</td>\n",
       "      <td>0.0</td>\n",
       "    </tr>\n",
       "    <tr>\n",
       "      <th>1</th>\n",
       "      <td>0.405099</td>\n",
       "      <td>0.446281</td>\n",
       "      <td>0.662432</td>\n",
       "      <td>0.368806</td>\n",
       "      <td>0.501069</td>\n",
       "      <td>0.032883</td>\n",
       "      <td>0.215165</td>\n",
       "      <td>0.0</td>\n",
       "    </tr>\n",
       "    <tr>\n",
       "      <th>2</th>\n",
       "      <td>0.349386</td>\n",
       "      <td>0.347107</td>\n",
       "      <td>0.879310</td>\n",
       "      <td>0.220721</td>\n",
       "      <td>0.503920</td>\n",
       "      <td>0.251453</td>\n",
       "      <td>0.150665</td>\n",
       "      <td>0.0</td>\n",
       "    </tr>\n",
       "    <tr>\n",
       "      <th>3</th>\n",
       "      <td>0.306893</td>\n",
       "      <td>0.316116</td>\n",
       "      <td>0.793103</td>\n",
       "      <td>0.239302</td>\n",
       "      <td>0.533856</td>\n",
       "      <td>0.194243</td>\n",
       "      <td>0.140817</td>\n",
       "      <td>0.0</td>\n",
       "    </tr>\n",
       "    <tr>\n",
       "      <th>4</th>\n",
       "      <td>0.524079</td>\n",
       "      <td>0.533058</td>\n",
       "      <td>0.864791</td>\n",
       "      <td>0.427365</td>\n",
       "      <td>0.664291</td>\n",
       "      <td>0.076701</td>\n",
       "      <td>0.322994</td>\n",
       "      <td>0.0</td>\n",
       "    </tr>\n",
       "    <tr>\n",
       "      <th>...</th>\n",
       "      <td>...</td>\n",
       "      <td>...</td>\n",
       "      <td>...</td>\n",
       "      <td>...</td>\n",
       "      <td>...</td>\n",
       "      <td>...</td>\n",
       "      <td>...</td>\n",
       "      <td>...</td>\n",
       "    </tr>\n",
       "    <tr>\n",
       "      <th>205</th>\n",
       "      <td>0.151086</td>\n",
       "      <td>0.163223</td>\n",
       "      <td>0.637024</td>\n",
       "      <td>0.134009</td>\n",
       "      <td>0.250178</td>\n",
       "      <td>0.372635</td>\n",
       "      <td>0.172821</td>\n",
       "      <td>1.0</td>\n",
       "    </tr>\n",
       "    <tr>\n",
       "      <th>206</th>\n",
       "      <td>0.060434</td>\n",
       "      <td>0.097107</td>\n",
       "      <td>0.390200</td>\n",
       "      <td>0.135698</td>\n",
       "      <td>0.117605</td>\n",
       "      <td>0.462872</td>\n",
       "      <td>0.238306</td>\n",
       "      <td>1.0</td>\n",
       "    </tr>\n",
       "    <tr>\n",
       "      <th>207</th>\n",
       "      <td>0.246459</td>\n",
       "      <td>0.258264</td>\n",
       "      <td>0.727768</td>\n",
       "      <td>0.189752</td>\n",
       "      <td>0.429081</td>\n",
       "      <td>0.981667</td>\n",
       "      <td>0.264402</td>\n",
       "      <td>1.0</td>\n",
       "    </tr>\n",
       "    <tr>\n",
       "      <th>208</th>\n",
       "      <td>0.118036</td>\n",
       "      <td>0.165289</td>\n",
       "      <td>0.399274</td>\n",
       "      <td>0.155405</td>\n",
       "      <td>0.146828</td>\n",
       "      <td>0.368344</td>\n",
       "      <td>0.258493</td>\n",
       "      <td>1.0</td>\n",
       "    </tr>\n",
       "    <tr>\n",
       "      <th>209</th>\n",
       "      <td>0.161473</td>\n",
       "      <td>0.192149</td>\n",
       "      <td>0.547187</td>\n",
       "      <td>0.193694</td>\n",
       "      <td>0.245189</td>\n",
       "      <td>0.633463</td>\n",
       "      <td>0.267848</td>\n",
       "      <td>1.0</td>\n",
       "    </tr>\n",
       "  </tbody>\n",
       "</table>\n",
       "<p>210 rows × 8 columns</p>\n",
       "</div>"
      ],
      "text/plain": [
       "         area  perimeter  compactness  kernel length  kernel width  \\\n",
       "0    0.440982   0.502066     0.570780       0.486486      0.486101   \n",
       "1    0.405099   0.446281     0.662432       0.368806      0.501069   \n",
       "2    0.349386   0.347107     0.879310       0.220721      0.503920   \n",
       "3    0.306893   0.316116     0.793103       0.239302      0.533856   \n",
       "4    0.524079   0.533058     0.864791       0.427365      0.664291   \n",
       "..        ...        ...          ...            ...           ...   \n",
       "205  0.151086   0.163223     0.637024       0.134009      0.250178   \n",
       "206  0.060434   0.097107     0.390200       0.135698      0.117605   \n",
       "207  0.246459   0.258264     0.727768       0.189752      0.429081   \n",
       "208  0.118036   0.165289     0.399274       0.155405      0.146828   \n",
       "209  0.161473   0.192149     0.547187       0.193694      0.245189   \n",
       "\n",
       "     asymmetry coefficient  kernel groove length  wheat type  \n",
       "0                 0.189302              0.345150         0.0  \n",
       "1                 0.032883              0.215165         0.0  \n",
       "2                 0.251453              0.150665         0.0  \n",
       "3                 0.194243              0.140817         0.0  \n",
       "4                 0.076701              0.322994         0.0  \n",
       "..                     ...                   ...         ...  \n",
       "205               0.372635              0.172821         1.0  \n",
       "206               0.462872              0.238306         1.0  \n",
       "207               0.981667              0.264402         1.0  \n",
       "208               0.368344              0.258493         1.0  \n",
       "209               0.633463              0.267848         1.0  \n",
       "\n",
       "[210 rows x 8 columns]"
      ]
     },
     "execution_count": 23,
     "metadata": {},
     "output_type": "execute_result"
    }
   ],
   "source": [
    "from sklearn.preprocessing import MinMaxScaler\n",
    "\n",
    "scaler = MinMaxScaler() #default scaling is (0,1) so no need to specify\n",
    "\n",
    "n_arr = scaler.fit_transform(data)\n",
    "\n",
    "n_df = pd.DataFrame(n_arr, columns = data.columns)\n",
    "n_df"
   ]
  },
  {
   "cell_type": "code",
   "execution_count": 24,
   "id": "6442332f",
   "metadata": {},
   "outputs": [],
   "source": [
    "from sklearn import preprocessing\n",
    "from sklearn import utils\n",
    "\n",
    "x1 = n_df.iloc[:,: -1].values\n",
    "y = n_df.iloc[:,7].values\n",
    "y1 = preprocessing.LabelEncoder() #need to convert continuous to categorical\n",
    "y2 = y1.fit_transform(y)"
   ]
  },
  {
   "cell_type": "code",
   "execution_count": 25,
   "id": "49c23688",
   "metadata": {},
   "outputs": [],
   "source": [
    "X_train, X_test, y_train, y_test = train_test_split(x1, y2, test_size=0.30, random_state=0)"
   ]
  },
  {
   "cell_type": "code",
   "execution_count": 26,
   "id": "b932dc8c",
   "metadata": {},
   "outputs": [
    {
     "data": {
      "text/plain": [
       "KNeighborsClassifier(metric='euclidean', n_neighbors=3)"
      ]
     },
     "execution_count": 26,
     "metadata": {},
     "output_type": "execute_result"
    }
   ],
   "source": [
    "classifier3N = KNeighborsClassifier(n_neighbors=3, metric='euclidean')\n",
    "classifier3N.fit(X_train, y_train)"
   ]
  },
  {
   "cell_type": "code",
   "execution_count": 27,
   "id": "9acfec40",
   "metadata": {},
   "outputs": [
    {
     "data": {
      "text/plain": [
       "KNeighborsClassifier(metric='euclidean')"
      ]
     },
     "execution_count": 27,
     "metadata": {},
     "output_type": "execute_result"
    }
   ],
   "source": [
    "classifier5N = KNeighborsClassifier(n_neighbors=5, metric='euclidean')\n",
    "classifier5N.fit(X_train, y_train)"
   ]
  },
  {
   "cell_type": "code",
   "execution_count": 28,
   "id": "c01f1128",
   "metadata": {},
   "outputs": [
    {
     "data": {
      "text/plain": [
       "KNeighborsClassifier(metric='euclidean', n_neighbors=7)"
      ]
     },
     "execution_count": 28,
     "metadata": {},
     "output_type": "execute_result"
    }
   ],
   "source": [
    "classifier7N = KNeighborsClassifier(n_neighbors=7, metric='euclidean')\n",
    "classifier7N.fit(X_train, y_train)"
   ]
  },
  {
   "cell_type": "code",
   "execution_count": 29,
   "id": "26419926",
   "metadata": {},
   "outputs": [],
   "source": [
    "pred3N = classifier3N.predict(test2)\n",
    "pred5N = classifier5N.predict(test2)\n",
    "pred7N = classifier7N.predict(test2)"
   ]
  },
  {
   "cell_type": "code",
   "execution_count": 30,
   "id": "049cbbaa",
   "metadata": {},
   "outputs": [
    {
     "name": "stdout",
     "output_type": "stream",
     "text": [
      "[1]\n"
     ]
    }
   ],
   "source": [
    "print(pred3N)"
   ]
  },
  {
   "cell_type": "code",
   "execution_count": 31,
   "id": "eb674009",
   "metadata": {},
   "outputs": [
    {
     "name": "stdout",
     "output_type": "stream",
     "text": [
      "[1]\n"
     ]
    }
   ],
   "source": [
    "print(pred5N)"
   ]
  },
  {
   "cell_type": "code",
   "execution_count": 32,
   "id": "2b448452",
   "metadata": {},
   "outputs": [
    {
     "name": "stdout",
     "output_type": "stream",
     "text": [
      "[1]\n"
     ]
    }
   ],
   "source": [
    "print(pred7N)"
   ]
  },
  {
   "cell_type": "markdown",
   "id": "41843687",
   "metadata": {},
   "source": [
    "<b>The classification after min-max normalization is 1, which is the original classifier 3 after normalization. Therefore, technically, there is no difference in classification after min-max normalization.</b>\n",
    "The reason behind this may be that the change in scaling did not create a large enough difference in magnitude between the original and scaled dataset - leading to no change in the final classification."
   ]
  },
  {
   "cell_type": "markdown",
   "id": "0b31ab85",
   "metadata": {},
   "source": [
    "<hr>"
   ]
  }
 ],
 "metadata": {
  "kernelspec": {
   "display_name": "Python 3 (ipykernel)",
   "language": "python",
   "name": "python3"
  },
  "language_info": {
   "codemirror_mode": {
    "name": "ipython",
    "version": 3
   },
   "file_extension": ".py",
   "mimetype": "text/x-python",
   "name": "python",
   "nbconvert_exporter": "python",
   "pygments_lexer": "ipython3",
   "version": "3.8.13"
  }
 },
 "nbformat": 4,
 "nbformat_minor": 5
}
